{
 "cells": [
  {
   "cell_type": "code",
   "execution_count": 4,
   "id": "cd10ebba",
   "metadata": {},
   "outputs": [],
   "source": [
    "import pandas as pd\n",
    "import numpy as np\n",
    "import matplotlib.pyplot as plt\n",
    "import seaborn as sns\n",
    "import nltk\n",
    "from nltk.corpus import stopwords\n",
    "from nltk.tokenize import word_tokenize,RegexpTokenizer\n",
    "from sklearn.metrics import accuracy_score,classification_report,confusion_matrix\n",
    "from sklearn.model_selection import train_test_split\n",
    "from sklearn.ensemble import RandomForestClassifier, GradientBoostingClassifier\n",
    "from sklearn.naive_bayes import MultinomialNB\n",
    "from sklearn.linear_model import LogisticRegression\n",
    "from sklearn.neighbors import KNeighborsClassifier\n",
    "from sklearn.tree import DecisionTreeClassifier\n",
    "from sklearn.svm import LinearSVC, SVC\n",
    "from time import perf_counter\n",
    "import warnings\n",
    "warnings.filterwarnings(action='ignore')"
   ]
  },
  {
   "cell_type": "code",
   "execution_count": 1,
   "id": "6254d7df",
   "metadata": {},
   "outputs": [],
   "source": [
    "# Read the CSV file into a DataFrame"
   ]
  },
  {
   "cell_type": "code",
   "execution_count": 5,
   "id": "d7bed6b7",
   "metadata": {},
   "outputs": [],
   "source": [
    "df = pd.read_csv('message.csv',encoding=\"ISO-8859-1\")"
   ]
  },
  {
   "cell_type": "code",
   "execution_count": 6,
   "id": "1e0a5b43",
   "metadata": {
    "scrolled": true
   },
   "outputs": [
    {
     "data": {
      "text/html": [
       "<div>\n",
       "<style scoped>\n",
       "    .dataframe tbody tr th:only-of-type {\n",
       "        vertical-align: middle;\n",
       "    }\n",
       "\n",
       "    .dataframe tbody tr th {\n",
       "        vertical-align: top;\n",
       "    }\n",
       "\n",
       "    .dataframe thead th {\n",
       "        text-align: right;\n",
       "    }\n",
       "</style>\n",
       "<table border=\"1\" class=\"dataframe\">\n",
       "  <thead>\n",
       "    <tr style=\"text-align: right;\">\n",
       "      <th></th>\n",
       "      <th>Unnamed: 0</th>\n",
       "      <th>label</th>\n",
       "      <th>text</th>\n",
       "      <th>label_num</th>\n",
       "    </tr>\n",
       "  </thead>\n",
       "  <tbody>\n",
       "    <tr>\n",
       "      <th>0</th>\n",
       "      <td>605</td>\n",
       "      <td>ham</td>\n",
       "      <td>Subject: enron methanol ; meter # : 988291\\r\\n...</td>\n",
       "      <td>0</td>\n",
       "    </tr>\n",
       "    <tr>\n",
       "      <th>1</th>\n",
       "      <td>2349</td>\n",
       "      <td>ham</td>\n",
       "      <td>Subject: hpl nom for january 9 , 2001\\r\\n( see...</td>\n",
       "      <td>0</td>\n",
       "    </tr>\n",
       "    <tr>\n",
       "      <th>2</th>\n",
       "      <td>3624</td>\n",
       "      <td>ham</td>\n",
       "      <td>Subject: neon retreat\\r\\nho ho ho , we ' re ar...</td>\n",
       "      <td>0</td>\n",
       "    </tr>\n",
       "    <tr>\n",
       "      <th>3</th>\n",
       "      <td>4685</td>\n",
       "      <td>spam</td>\n",
       "      <td>Subject: photoshop , windows , office . cheap ...</td>\n",
       "      <td>1</td>\n",
       "    </tr>\n",
       "    <tr>\n",
       "      <th>4</th>\n",
       "      <td>2030</td>\n",
       "      <td>ham</td>\n",
       "      <td>Subject: re : indian springs\\r\\nthis deal is t...</td>\n",
       "      <td>0</td>\n",
       "    </tr>\n",
       "  </tbody>\n",
       "</table>\n",
       "</div>"
      ],
      "text/plain": [
       "   Unnamed: 0 label                                               text  \\\n",
       "0         605   ham  Subject: enron methanol ; meter # : 988291\\r\\n...   \n",
       "1        2349   ham  Subject: hpl nom for january 9 , 2001\\r\\n( see...   \n",
       "2        3624   ham  Subject: neon retreat\\r\\nho ho ho , we ' re ar...   \n",
       "3        4685  spam  Subject: photoshop , windows , office . cheap ...   \n",
       "4        2030   ham  Subject: re : indian springs\\r\\nthis deal is t...   \n",
       "\n",
       "   label_num  \n",
       "0          0  \n",
       "1          0  \n",
       "2          0  \n",
       "3          1  \n",
       "4          0  "
      ]
     },
     "execution_count": 6,
     "metadata": {},
     "output_type": "execute_result"
    }
   ],
   "source": [
    "df.head()"
   ]
  },
  {
   "cell_type": "markdown",
   "id": "b27d0067",
   "metadata": {},
   "source": [
    "#### Data Exploration"
   ]
  },
  {
   "cell_type": "code",
   "execution_count": 2,
   "id": "825d3f27",
   "metadata": {},
   "outputs": [],
   "source": [
    "# Drop the 'Unnamed: 0' column and renaming the other ones"
   ]
  },
  {
   "cell_type": "code",
   "execution_count": 10,
   "id": "7d18db0b",
   "metadata": {},
   "outputs": [
    {
     "data": {
      "text/html": [
       "<div>\n",
       "<style scoped>\n",
       "    .dataframe tbody tr th:only-of-type {\n",
       "        vertical-align: middle;\n",
       "    }\n",
       "\n",
       "    .dataframe tbody tr th {\n",
       "        vertical-align: top;\n",
       "    }\n",
       "\n",
       "    .dataframe thead th {\n",
       "        text-align: right;\n",
       "    }\n",
       "</style>\n",
       "<table border=\"1\" class=\"dataframe\">\n",
       "  <thead>\n",
       "    <tr style=\"text-align: right;\">\n",
       "      <th></th>\n",
       "      <th>Label</th>\n",
       "      <th>Text</th>\n",
       "      <th>Label_Number</th>\n",
       "    </tr>\n",
       "  </thead>\n",
       "  <tbody>\n",
       "    <tr>\n",
       "      <th>0</th>\n",
       "      <td>ham</td>\n",
       "      <td>Subject: enron methanol ; meter # : 988291\\r\\n...</td>\n",
       "      <td>0</td>\n",
       "    </tr>\n",
       "    <tr>\n",
       "      <th>1</th>\n",
       "      <td>ham</td>\n",
       "      <td>Subject: hpl nom for january 9 , 2001\\r\\n( see...</td>\n",
       "      <td>0</td>\n",
       "    </tr>\n",
       "    <tr>\n",
       "      <th>2</th>\n",
       "      <td>ham</td>\n",
       "      <td>Subject: neon retreat\\r\\nho ho ho , we ' re ar...</td>\n",
       "      <td>0</td>\n",
       "    </tr>\n",
       "    <tr>\n",
       "      <th>3</th>\n",
       "      <td>spam</td>\n",
       "      <td>Subject: photoshop , windows , office . cheap ...</td>\n",
       "      <td>1</td>\n",
       "    </tr>\n",
       "    <tr>\n",
       "      <th>4</th>\n",
       "      <td>ham</td>\n",
       "      <td>Subject: re : indian springs\\r\\nthis deal is t...</td>\n",
       "      <td>0</td>\n",
       "    </tr>\n",
       "  </tbody>\n",
       "</table>\n",
       "</div>"
      ],
      "text/plain": [
       "  Label                                               Text  Label_Number\n",
       "0   ham  Subject: enron methanol ; meter # : 988291\\r\\n...             0\n",
       "1   ham  Subject: hpl nom for january 9 , 2001\\r\\n( see...             0\n",
       "2   ham  Subject: neon retreat\\r\\nho ho ho , we ' re ar...             0\n",
       "3  spam  Subject: photoshop , windows , office . cheap ...             1\n",
       "4   ham  Subject: re : indian springs\\r\\nthis deal is t...             0"
      ]
     },
     "execution_count": 10,
     "metadata": {},
     "output_type": "execute_result"
    }
   ],
   "source": [
    "df.drop('Unnamed: 0',axis=1,inplace=True)\n",
    "df.columns = ['Label','Text','Label_Number']\n",
    "df.head()"
   ]
  },
  {
   "cell_type": "code",
   "execution_count": 3,
   "id": "28b4552b",
   "metadata": {},
   "outputs": [],
   "source": [
    "# Perform data exploration and analysis"
   ]
  },
  {
   "cell_type": "code",
   "execution_count": 11,
   "id": "b5e04960",
   "metadata": {},
   "outputs": [
    {
     "data": {
      "text/plain": [
       "(5171, 3)"
      ]
     },
     "execution_count": 11,
     "metadata": {},
     "output_type": "execute_result"
    }
   ],
   "source": [
    "df.shape"
   ]
  },
  {
   "cell_type": "code",
   "execution_count": 12,
   "id": "eb4c240c",
   "metadata": {},
   "outputs": [
    {
     "name": "stdout",
     "output_type": "stream",
     "text": [
      "<class 'pandas.core.frame.DataFrame'>\n",
      "RangeIndex: 5171 entries, 0 to 5170\n",
      "Data columns (total 3 columns):\n",
      " #   Column        Non-Null Count  Dtype \n",
      "---  ------        --------------  ----- \n",
      " 0   Label         5171 non-null   object\n",
      " 1   Text          5171 non-null   object\n",
      " 2   Label_Number  5171 non-null   int64 \n",
      "dtypes: int64(1), object(2)\n",
      "memory usage: 121.3+ KB\n"
     ]
    }
   ],
   "source": [
    "df.info()"
   ]
  },
  {
   "cell_type": "code",
   "execution_count": 13,
   "id": "d2947d20",
   "metadata": {},
   "outputs": [
    {
     "data": {
      "text/plain": [
       "Label           0\n",
       "Text            0\n",
       "Label_Number    0\n",
       "dtype: int64"
      ]
     },
     "execution_count": 13,
     "metadata": {},
     "output_type": "execute_result"
    }
   ],
   "source": [
    "df.isnull().sum()"
   ]
  },
  {
   "cell_type": "code",
   "execution_count": 14,
   "id": "cf80d295",
   "metadata": {},
   "outputs": [
    {
     "data": {
      "text/plain": [
       "Label_Number\n",
       "0    3672\n",
       "1    1499\n",
       "Name: count, dtype: int64"
      ]
     },
     "execution_count": 14,
     "metadata": {},
     "output_type": "execute_result"
    }
   ],
   "source": [
    "df['Label_Number'].value_counts()"
   ]
  },
  {
   "cell_type": "code",
   "execution_count": 4,
   "id": "507206b7",
   "metadata": {},
   "outputs": [],
   "source": [
    "# Visualize the distribution of labels using a countplot"
   ]
  },
  {
   "cell_type": "code",
   "execution_count": 15,
   "id": "2af6a81d",
   "metadata": {},
   "outputs": [
    {
     "data": {
      "text/plain": [
       "<Axes: xlabel='Label', ylabel='count'>"
      ]
     },
     "execution_count": 15,
     "metadata": {},
     "output_type": "execute_result"
    },
    {
     "data": {
      "image/png": "[encoded data removed]",
      "text/plain": [
       "<Figure size 1000x700 with 1 Axes>"
      ]
     },
     "metadata": {},
     "output_type": "display_data"
    }
   ],
   "source": [
    "plt.style.use('dark_background')\n",
    "plt.figure(figsize=(10,7))\n",
    "sns.countplot(data=df,x='Label')"
   ]
  },
  {
   "cell_type": "code",
   "execution_count": 16,
   "id": "ed5e1eee",
   "metadata": {},
   "outputs": [
    {
     "name": "stderr",
     "output_type": "stream",
     "text": [
      "[nltk_data] Downloading package punkt to C:\\Users\\Tushar\n",
      "[nltk_data]     Mathur\\AppData\\Roaming\\nltk_data...\n",
      "[nltk_data]   Package punkt is already up-to-date!\n"
     ]
    },
    {
     "data": {
      "text/plain": [
       "True"
      ]
     },
     "execution_count": 16,
     "metadata": {},
     "output_type": "execute_result"
    }
   ],
   "source": [
    "nltk.download('punkt')"
   ]
  },
  {
   "cell_type": "code",
   "execution_count": 7,
   "id": "48e0f252",
   "metadata": {},
   "outputs": [],
   "source": [
    "# Define a function to count the number of words in a text\n",
    "# Apply the count_words function to the 'Text' column and create a new 'count' column"
   ]
  },
  {
   "cell_type": "code",
   "execution_count": 17,
   "id": "86f92145",
   "metadata": {},
   "outputs": [
    {
     "data": {
      "text/plain": [
       "0        68\n",
       "1        24\n",
       "2       551\n",
       "3        49\n",
       "4        71\n",
       "       ... \n",
       "5166    156\n",
       "5167    306\n",
       "5168     79\n",
       "5169    112\n",
       "5170    200\n",
       "Name: count, Length: 5171, dtype: int64"
      ]
     },
     "execution_count": 17,
     "metadata": {},
     "output_type": "execute_result"
    }
   ],
   "source": [
    "def count_words(text):\n",
    "    words = word_tokenize(text)\n",
    "    return len(words)\n",
    "\n",
    "df['count'] = df['Text'].apply(count_words)\n",
    "df['count']"
   ]
  },
  {
   "cell_type": "code",
   "execution_count": 8,
   "id": "b590a22f",
   "metadata": {},
   "outputs": [],
   "source": [
    "# Group the data by 'Label_Number' and calculate the average word count"
   ]
  },
  {
   "cell_type": "code",
   "execution_count": 19,
   "id": "94a96907",
   "metadata": {},
   "outputs": [
    {
     "data": {
      "text/plain": [
       "Label_Number\n",
       "0    226.239107\n",
       "1    236.387592\n",
       "Name: count, dtype: float64"
      ]
     },
     "execution_count": 19,
     "metadata": {},
     "output_type": "execute_result"
    }
   ],
   "source": [
    "df.groupby('Label_Number')['count'].mean()"
   ]
  },
  {
   "cell_type": "code",
   "execution_count": 9,
   "id": "1b79000f",
   "metadata": {},
   "outputs": [],
   "source": [
    "# Define a function to clean the text by converting it to lowercase and removing non-alphabetic characters"
   ]
  },
  {
   "cell_type": "code",
   "execution_count": 21,
   "id": "6d82fe4f",
   "metadata": {},
   "outputs": [],
   "source": [
    "def clean_str(string,reg = RegexpTokenizer(r'[a-z]+')):\n",
    "    string = string.lower()\n",
    "    tokens = reg.tokenize(string)\n",
    "    return \" \".join(tokens)"
   ]
  },
  {
   "cell_type": "code",
   "execution_count": 10,
   "id": "eb28c9c2",
   "metadata": {},
   "outputs": [],
   "source": [
    "# Clean the 'Text' column using the clean_str function and remove the word subject from text"
   ]
  },
  {
   "cell_type": "code",
   "execution_count": 23,
   "id": "b642fe46",
   "metadata": {},
   "outputs": [],
   "source": [
    "df['Text'] = df['Text'].apply(lambda string: clean_str(string))"
   ]
  },
  {
   "cell_type": "code",
   "execution_count": 24,
   "id": "ecf72856",
   "metadata": {},
   "outputs": [],
   "source": [
    "df['Text'] = [' '.join([item for item in x.split() if item not in 'subject']) for x in df['Text']]"
   ]
  },
  {
   "cell_type": "code",
   "execution_count": 11,
   "id": "e69bbda9",
   "metadata": {},
   "outputs": [],
   "source": [
    "# Perform stemming on the 'Text' column using the PorterStemmer from NLTK"
   ]
  },
  {
   "cell_type": "code",
   "execution_count": 25,
   "id": "b13a2248",
   "metadata": {},
   "outputs": [],
   "source": [
    "from nltk.stem import PorterStemmer"
   ]
  },
  {
   "cell_type": "code",
   "execution_count": 26,
   "id": "94d5fd83",
   "metadata": {},
   "outputs": [],
   "source": [
    "stemmer = PorterStemmer()"
   ]
  },
  {
   "cell_type": "code",
   "execution_count": 27,
   "id": "fa3acd16",
   "metadata": {},
   "outputs": [],
   "source": [
    "def stemming(text):\n",
    "    return ''.join([stemmer.stem(word) for word in text])"
   ]
  },
  {
   "cell_type": "code",
   "execution_count": 28,
   "id": "64b7f275",
   "metadata": {},
   "outputs": [],
   "source": [
    "df['Text'] = df['Text'].apply(stemming)"
   ]
  },
  {
   "cell_type": "markdown",
   "id": "2b60cf2a",
   "metadata": {},
   "source": [
    "### Perform feature extraction using CountVectorizer"
   ]
  },
  {
   "cell_type": "code",
   "execution_count": 29,
   "id": "06ceadd7",
   "metadata": {},
   "outputs": [],
   "source": [
    "x = df.loc[:,'Text']\n",
    "y = df.loc[:,'Label_Number']"
   ]
  },
  {
   "cell_type": "code",
   "execution_count": 32,
   "id": "8f3415a4",
   "metadata": {},
   "outputs": [],
   "source": [
    "from sklearn.feature_extraction.text import CountVectorizer"
   ]
  },
  {
   "cell_type": "code",
   "execution_count": 33,
   "id": "8007b952",
   "metadata": {},
   "outputs": [],
   "source": [
    "cv = CountVectorizer()\n",
    "x = cv.fit_transform(df.Text)\n",
    "y = df.Label"
   ]
  },
  {
   "cell_type": "markdown",
   "id": "88a531a0",
   "metadata": {},
   "source": [
    "### Split the data into training and testing sets and Define a dictionary of models to train"
   ]
  },
  {
   "cell_type": "code",
   "execution_count": 35,
   "id": "7f406f4e",
   "metadata": {},
   "outputs": [],
   "source": [
    "x_train,x_test,y_train,y_test = train_test_split(x,y,test_size=0.2,random_state=0)\n",
    "models = {\n",
    "    'Random Forest' : {'model':RandomForestClassifier(),'perf':0},\n",
    "    'Gradient Boosting' : {'model':GradientBoostingClassifier(),'perf':0},\n",
    "    'MultinomialNB' : {'model':MultinomialNB(),'perf':0},\n",
    "    'Logisitc Regression' : {'model':LogisticRegression(),'perf':0},\n",
    "    'KNN' : {'model':KNeighborsClassifier(),'perf':0},\n",
    "    'Decision Tree' : {'model':DecisionTreeClassifier(),'perf':0},\n",
    "    'SVM (Linear)' : {'model':LinearSVC(),'perf':0},\n",
    "    'SVM (RBF)' : {'model':SVC(),'perf':0}\n",
    "}"
   ]
  },
  {
   "cell_type": "code",
   "execution_count": 12,
   "id": "5aec70a4",
   "metadata": {},
   "outputs": [],
   "source": [
    "# Train the models and measure the training time"
   ]
  },
  {
   "cell_type": "code",
   "execution_count": 37,
   "id": "326a59ec",
   "metadata": {},
   "outputs": [
    {
     "name": "stdout",
     "output_type": "stream",
     "text": [
      "Random Forest        trained in 23.37 sec\n",
      "Gradient Boosting    trained in 68.57 sec\n",
      "MultinomialNB        trained in 0.2 sec\n",
      "Logisitc Regression  trained in 1.99 sec\n",
      "KNN                  trained in 0.01 sec\n",
      "Decision Tree        trained in 2.68 sec\n",
      "SVM (Linear)         trained in 0.45 sec\n",
      "SVM (RBF)            trained in 7.95 sec\n"
     ]
    }
   ],
   "source": [
    "for name,model in models.items():\n",
    "    start = perf_counter()\n",
    "    model['model'].fit(x_train,y_train)\n",
    "    duration = perf_counter() - start\n",
    "    duration = round(duration,2)\n",
    "    model['perf'] = duration\n",
    "    \n",
    "    print(f'{name:20} trained in {duration} sec')"
   ]
  },
  {
   "cell_type": "markdown",
   "id": "43322434",
   "metadata": {},
   "source": [
    "### Calculate the accuracy of the models on the test set"
   ]
  },
  {
   "cell_type": "code",
   "execution_count": 38,
   "id": "24e62be7",
   "metadata": {},
   "outputs": [],
   "source": [
    "models_accuracy = []\n",
    "for name,model in models.items():\n",
    "    accuracy = model['model'].score(x_test,y_test)\n",
    "    models_accuracy.append([name,accuracy,model['perf']])\n",
    "\n",
    "models_accuracy1 = []\n",
    "\n",
    "for name,model in models.items():\n",
    "    accuracy = model['model'].score(x_train,y_train)\n",
    "    models_accuracy1.append([name,accuracy,model['perf']])"
   ]
  },
  {
   "cell_type": "code",
   "execution_count": 13,
   "id": "6b4cba0b",
   "metadata": {},
   "outputs": [],
   "source": [
    "# Create a DataFrame to display the model accuracies and training times"
   ]
  },
  {
   "cell_type": "code",
   "execution_count": 39,
   "id": "a85b6866",
   "metadata": {},
   "outputs": [],
   "source": [
    "df_accuracy = pd.DataFrame(models_accuracy)\n",
    "df_accuracy.columns = ['Model','Test Accuracy','Training time (sec)']\n",
    "df_accuracy.sort_values(by='Test Accuracy',ascending=False,inplace=True)\n",
    "df_accuracy.reset_index(drop=True,inplace=True)"
   ]
  },
  {
   "cell_type": "code",
   "execution_count": 40,
   "id": "09cff6bf",
   "metadata": {},
   "outputs": [
    {
     "data": {
      "text/html": [
       "<div>\n",
       "<style scoped>\n",
       "    .dataframe tbody tr th:only-of-type {\n",
       "        vertical-align: middle;\n",
       "    }\n",
       "\n",
       "    .dataframe tbody tr th {\n",
       "        vertical-align: top;\n",
       "    }\n",
       "\n",
       "    .dataframe thead th {\n",
       "        text-align: right;\n",
       "    }\n",
       "</style>\n",
       "<table border=\"1\" class=\"dataframe\">\n",
       "  <thead>\n",
       "    <tr style=\"text-align: right;\">\n",
       "      <th></th>\n",
       "      <th>Model</th>\n",
       "      <th>Test Accuracy</th>\n",
       "      <th>Training time (sec)</th>\n",
       "    </tr>\n",
       "  </thead>\n",
       "  <tbody>\n",
       "    <tr>\n",
       "      <th>0</th>\n",
       "      <td>MultinomialNB</td>\n",
       "      <td>0.973913</td>\n",
       "      <td>0.20</td>\n",
       "    </tr>\n",
       "    <tr>\n",
       "      <th>1</th>\n",
       "      <td>Logisitc Regression</td>\n",
       "      <td>0.973913</td>\n",
       "      <td>1.99</td>\n",
       "    </tr>\n",
       "    <tr>\n",
       "      <th>2</th>\n",
       "      <td>Random Forest</td>\n",
       "      <td>0.965217</td>\n",
       "      <td>23.37</td>\n",
       "    </tr>\n",
       "    <tr>\n",
       "      <th>3</th>\n",
       "      <td>SVM (Linear)</td>\n",
       "      <td>0.963285</td>\n",
       "      <td>0.45</td>\n",
       "    </tr>\n",
       "    <tr>\n",
       "      <th>4</th>\n",
       "      <td>Gradient Boosting</td>\n",
       "      <td>0.961353</td>\n",
       "      <td>68.57</td>\n",
       "    </tr>\n",
       "    <tr>\n",
       "      <th>5</th>\n",
       "      <td>Decision Tree</td>\n",
       "      <td>0.960386</td>\n",
       "      <td>2.68</td>\n",
       "    </tr>\n",
       "    <tr>\n",
       "      <th>6</th>\n",
       "      <td>SVM (RBF)</td>\n",
       "      <td>0.956522</td>\n",
       "      <td>7.95</td>\n",
       "    </tr>\n",
       "    <tr>\n",
       "      <th>7</th>\n",
       "      <td>KNN</td>\n",
       "      <td>0.867633</td>\n",
       "      <td>0.01</td>\n",
       "    </tr>\n",
       "  </tbody>\n",
       "</table>\n",
       "</div>"
      ],
      "text/plain": [
       "                 Model  Test Accuracy  Training time (sec)\n",
       "0        MultinomialNB       0.973913                 0.20\n",
       "1  Logisitc Regression       0.973913                 1.99\n",
       "2        Random Forest       0.965217                23.37\n",
       "3         SVM (Linear)       0.963285                 0.45\n",
       "4    Gradient Boosting       0.961353                68.57\n",
       "5        Decision Tree       0.960386                 2.68\n",
       "6            SVM (RBF)       0.956522                 7.95\n",
       "7                  KNN       0.867633                 0.01"
      ]
     },
     "execution_count": 40,
     "metadata": {},
     "output_type": "execute_result"
    }
   ],
   "source": [
    "df_accuracy"
   ]
  },
  {
   "cell_type": "code",
   "execution_count": 14,
   "id": "3d58b695",
   "metadata": {},
   "outputs": [],
   "source": [
    "# Visualize the model accuracies on the test set using a bar plot"
   ]
  },
  {
   "cell_type": "code",
   "execution_count": 41,
   "id": "f3c1a239",
   "metadata": {},
   "outputs": [
    {
     "data": {
      "image/png": "[encoded data removed]",
      "text/plain": [
       "<Figure size 1500x600 with 1 Axes>"
      ]
     },
     "metadata": {},
     "output_type": "display_data"
    }
   ],
   "source": [
    "plt.figure(figsize=(15,6))\n",
    "sns.barplot(x='Model',y='Test Accuracy',data = df_accuracy)\n",
    "plt.title('Accuracy on the test set\\n',fontsize=15)\n",
    "plt.ylim(0.825,1)\n",
    "plt.show()"
   ]
  },
  {
   "cell_type": "code",
   "execution_count": 15,
   "id": "42ace585",
   "metadata": {},
   "outputs": [],
   "source": [
    "# Visualize the training times for each model using a bar plot"
   ]
  },
  {
   "cell_type": "code",
   "execution_count": 42,
   "id": "56bf6891",
   "metadata": {},
   "outputs": [
    {
     "data": {
      "image/png": "[encoded data removed]",
      "text/plain": [
       "<Figure size 1500x600 with 1 Axes>"
      ]
     },
     "metadata": {},
     "output_type": "display_data"
    }
   ],
   "source": [
    "plt.figure(figsize=(15,6))\n",
    "sns.barplot(x='Model',y='Training time (sec)',data = df_accuracy)\n",
    "plt.title('Training time for each model in sec',fontsize=15)\n",
    "plt.ylim(0,20)\n",
    "plt.show()"
   ]
  },
  {
   "cell_type": "code",
   "execution_count": 16,
   "id": "86600031",
   "metadata": {},
   "outputs": [],
   "source": [
    "# Perform hyperparameter tuning for MultinomialNB using GridSearchCV"
   ]
  },
  {
   "cell_type": "code",
   "execution_count": 43,
   "id": "67bab6fa",
   "metadata": {},
   "outputs": [],
   "source": [
    "from sklearn.naive_bayes import MultinomialNB\n",
    "from sklearn.model_selection import GridSearchCV"
   ]
  },
  {
   "cell_type": "code",
   "execution_count": 47,
   "id": "f5899558",
   "metadata": {},
   "outputs": [],
   "source": [
    "parameters = {'alpha':[0.2,1,2,5,10],'fit_prior' : [True,False]}\n",
    "grid = GridSearchCV(MultinomialNB(),param_grid=parameters)\n",
    "grid.fit(x_train,y_train)\n",
    "df_results = pd.DataFrame(grid.cv_results_)\n",
    "df_results = df_results[['params','mean_test_score']]\n",
    "df_results.sort_values(by='mean_test_score',ascending=False,inplace=True)"
   ]
  },
  {
   "cell_type": "code",
   "execution_count": 48,
   "id": "085bfbf0",
   "metadata": {},
   "outputs": [
    {
     "name": "stdout",
     "output_type": "stream",
     "text": [
      "                               params  mean_test_score\n",
      "0   {'alpha': 0.2, 'fit_prior': True}         0.981625\n",
      "1  {'alpha': 0.2, 'fit_prior': False}         0.981384\n",
      "3    {'alpha': 1, 'fit_prior': False}         0.980899\n",
      "2     {'alpha': 1, 'fit_prior': True}         0.978240\n",
      "5    {'alpha': 2, 'fit_prior': False}         0.972197\n",
      "4     {'alpha': 2, 'fit_prior': True}         0.967845\n",
      "7    {'alpha': 5, 'fit_prior': False}         0.937141\n",
      "6     {'alpha': 5, 'fit_prior': True}         0.931096\n",
      "9   {'alpha': 10, 'fit_prior': False}         0.890478\n",
      "8    {'alpha': 10, 'fit_prior': True}         0.881290\n"
     ]
    }
   ],
   "source": [
    "print(df_results)"
   ]
  },
  {
   "cell_type": "code",
   "execution_count": 50,
   "id": "3dab30c7",
   "metadata": {},
   "outputs": [
    {
     "data": {
      "text/plain": [
       "{'alpha': 0.2, 'fit_prior': True}"
      ]
     },
     "execution_count": 50,
     "metadata": {},
     "output_type": "execute_result"
    }
   ],
   "source": [
    "grid.best_params_"
   ]
  },
  {
   "cell_type": "code",
   "execution_count": 17,
   "id": "0c8ce173",
   "metadata": {},
   "outputs": [],
   "source": [
    "# Train the MultinomialNB model with the best hyperparameters"
   ]
  },
  {
   "cell_type": "code",
   "execution_count": 52,
   "id": "92caef33",
   "metadata": {},
   "outputs": [],
   "source": [
    "alpha,fit_prior = grid.best_params_['alpha'], grid.best_params_['fit_prior']\n",
    "model = MultinomialNB(alpha=alpha)\n",
    "model.fit(x_train,y_train)\n",
    "y_pred = model.predict(x_test)"
   ]
  },
  {
   "cell_type": "code",
   "execution_count": 18,
   "id": "da6faf49",
   "metadata": {},
   "outputs": [],
   "source": [
    "# Print the classification report and accuracy score of the MultinomialNB model"
   ]
  },
  {
   "cell_type": "code",
   "execution_count": 55,
   "id": "3849133f",
   "metadata": {},
   "outputs": [
    {
     "name": "stdout",
     "output_type": "stream",
     "text": [
      "              precision    recall  f1-score   support\n",
      "\n",
      "         ham       0.98      0.98      0.98       732\n",
      "        spam       0.96      0.96      0.96       303\n",
      "\n",
      "    accuracy                           0.97      1035\n",
      "   macro avg       0.97      0.97      0.97      1035\n",
      "weighted avg       0.97      0.97      0.97      1035\n",
      "\n",
      "Accuracy : 97.5 %\n"
     ]
    }
   ],
   "source": [
    "print(classification_report(y_test,y_pred))\n",
    "print('Accuracy :',round(accuracy_score(y_test,y_pred),3)*100,'%')"
   ]
  },
  {
   "cell_type": "code",
   "execution_count": 19,
   "id": "38f82a60",
   "metadata": {},
   "outputs": [],
   "source": [
    "# Define a function to display the predicted labels for a given DataFrame"
   ]
  },
  {
   "cell_type": "code",
   "execution_count": 56,
   "id": "ee27d0e9",
   "metadata": {},
   "outputs": [],
   "source": [
    "def display_result(df,number=2):\n",
    "    for i in range(number):\n",
    "        msg = df['Text'].iloc[i]\n",
    "        label = df['Label'].iloc[i]\n",
    "        \n",
    "        msg_vec = cv.transform([msg])\n",
    "        pred_label = model.predict(msg_vec)\n",
    "        print('Real:',label,'Predicted:',pred_label[0])\n",
    "        print('Email:',msg)"
   ]
  },
  {
   "cell_type": "code",
   "execution_count": 20,
   "id": "3ce1b2e6",
   "metadata": {},
   "outputs": [],
   "source": [
    "# Display the predicted labels for some examples from the ham and spam emails"
   ]
  },
  {
   "cell_type": "code",
   "execution_count": 57,
   "id": "c502c6b2",
   "metadata": {},
   "outputs": [],
   "source": [
    "df_spam = df[df['Label']=='spam']\n",
    "df_ham = df[df['Label']=='ham']"
   ]
  },
  {
   "cell_type": "code",
   "execution_count": 63,
   "id": "f7988148",
   "metadata": {},
   "outputs": [
    {
     "name": "stdout",
     "output_type": "stream",
     "text": [
      "Real: ham Predicted: ham\n",
      "Email: enron methanol meter this is a follow up to the note i gave you on monday preliminary flow data provided by daren please override pop daily volume presently zero to reflect daily activity you can obtain from gas control this change is needed asap for economics purposes\n",
      "Real: ham Predicted: ham\n",
      "Email: hpl nom for january see attached file hplnol xls hplnol xls\n",
      "Real: ham Predicted: ham\n",
      "Email: neon retreat ho ho ho we re around to that most wonderful time of the year neon leaders retreat time i know that this time of year is extremely hectic and that it tough to think about anything past the holidays but life does go on past the week of december through january and that what i d like you to think about for a minute on the calender that i handed out at the beginning of the fall semester the retreat was scheduled for the weekend of january but because of a youth ministers conference that brad and dustin are connected with that week we re going to change the date to the following weekend january now comes the part you need to think about i think we all agree that it important for us to get together and have some time to recharge our batteries before we get to far into the spring semester but it can be a lot of trouble and difficult for us to get away without kids etc so brad came up with a potential alternative for how we can get together on that weekend and then you can let me know which you prefer the first option would be to have a retreat similar to what we ve done the past several years this year we could go to the heartland country inn www com outside of brenham it a nice place where we d have a bedroom and a bedroom house side by side it in the country real relaxing but also close to brenham and only about one hour and minutes from here we can golf shop in the antique and craft stores in brenham eat dinner together at the ranch and spend time with each other we d meet on saturday and then return on sunday morning just like what we ve done in the past the second option would be to stay here in houston have dinner together at a nice restaurant and then have dessert and a time for visiting and recharging at one of our homes on that saturday evening this might be easier but the trade off would be that we wouldn have as much time together i ll let you decide email me back with what would be your preference and of course if you re available on that weekend the democratic process will prevail majority vote will rule let me hear from you as soon as possible preferably by the end of the weekend and if the vote doesn go your way no complaining allowed like i tend to do have a great weekend great golf great fishing great shopping or whatever makes you happy bobby\n",
      "Real: ham Predicted: ham\n",
      "Email: re indian springs this deal is to book the teco pvr revenue it is my understanding that teco just sends us a check i haven received an answer as to whether there is a predermined price associated with this deal or if teco just lets us know what we are giving i can continue to chase this deal down if you need\n",
      "Real: ham Predicted: ham\n",
      "Email: ehronline web address change this message is intended for ehronline users only due to a recent change to ehronline the url aka web address for accessing ehronline needs to be changed on your computer the change involves adding the letter to the http reference in the url the url for accessing ehronline should be https ehronline enron com this change should be made by those who have added the url as a favorite on the browser\n",
      "Real: ham Predicted: ham\n",
      "Email: spring savings certificate take off save when you use our customer appreciation spring savings certificate at foot locker lady foot locker kids foot locker and at our online stores welcome to our customer appreciation spring savings certificate use the special certificate below and receive off your purchases either in our stores or online hurry this day sale begins thursday march and ends sunday march share the savings today and mail this offer to your friends many items already are reduced and the discount is taken off the lowest sale price click below to print your customer appreciation spring savings certificate you must present this coupon at any foot locker lady foot locker or kids foot locker store in the foot locker canada is not participating in this program ready set save our spring savings discount will automatically appear when you use the links below or type camlem into the promotion code box during checkout footlocker com certificate code camlem ladyfootlocker com certificate code camlem kidsfootlocker com certificate code camlem remember returns are hassle free simply bring your items to any of our stores nationwide or through the mail don be left out register today to learn about our new products promotions events and other specials simply click below terms and conditions some exclusions apply please see manager for complete details certificate must be presented at the time of purchase and cannot be used in conjunction with any other discount offer or associate benefit not redeemable for cash applicable taxes must be paid by bearer cannot be applied to prior purchases or to gift card purchases void where prohibited licensed or regulated catalog exclusions apply valid thursday through sunday foot locker canada will not participate in this program if you do not wish to receive future emails please click below to unsubscribe\n"
     ]
    }
   ],
   "source": [
    "display_result(df_ham,6)"
   ]
  },
  {
   "cell_type": "code",
   "execution_count": null,
   "id": "48c31651",
   "metadata": {},
   "outputs": [],
   "source": []
  }
 ],
 "metadata": {
  "kernelspec": {
   "display_name": "Python 3 (ipykernel)",
   "language": "python",
   "name": "python3"
  },
  "language_info": {
   "codemirror_mode": {
    "name": "ipython",
    "version": 3
   },
   "file_extension": ".py",
   "mimetype": "text/x-python",
   "name": "python",
   "nbconvert_exporter": "python",
   "pygments_lexer": "ipython3",
   "version": "3.10.9"
  }
 },
 "nbformat": 4,
 "nbformat_minor": 5
}
